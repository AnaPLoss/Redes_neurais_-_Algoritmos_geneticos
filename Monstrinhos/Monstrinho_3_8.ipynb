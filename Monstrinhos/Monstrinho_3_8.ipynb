{
 "cells": [
  {
   "cell_type": "markdown",
   "id": "2495d3b6",
   "metadata": {},
   "source": [
    "# 3.8 A função de Himmelblau\n",
    "\n",
    "Aluna: Ana Luiza Poletto Loss"
   ]
  },
  {
   "cell_type": "markdown",
   "id": "094b7ffc",
   "metadata": {},
   "source": [
    "**Objetivos**: Use um algoritmo genético para encontrar as coordenadas (x, y) dos mínimos globais da função de Himmelblau abaixo.\n",
    "\n",
    "$$\n",
    "f(x, y) = (x^2 + y - 11)^2 + (x + y^2 - 7)^2\n",
    "$$\n"
   ]
  },
  {
   "cell_type": "markdown",
   "id": "b8fe77b9",
   "metadata": {},
   "source": [
    "### Introdução"
   ]
  },
  {
   "cell_type": "markdown",
   "id": "c03dd242",
   "metadata": {},
   "source": [
    "O problema aqui consiste em encontrar os mínimos da função de Himmelblau, uma função matemática bem conhecida em otimização que possui quatro mínimos globais. \n",
    " \n",
    "O objetivo é utilizar um Algoritmo Genético, que é uma técnica inspirada nos processos de evolução natural, para buscar as coordenadas (𝑥,𝑦) que minimizam essa função.\n",
    "\n",
    "O Algoritmo Genético realiza isso através de operadores como:\n",
    "\n",
    "- Seleção: Escolha dos melhores indivíduos.\n",
    "\n",
    "- Cruzamento: Combinação de partes dos pais para gerar filhos.\n",
    "\n",
    "- Mutação: Pequenas alterações aleatórias para garantir diversidade genética.\n",
    "\n",
    "##### Considerações\n",
    "\n",
    "*As ideias sobre Algoritmos Genéticos foram baseadas no material da disciplina ATP-303 GA 3.3 - Notebook caixas não-binárias, elaborado pelo professor Daniel Roberto Cassar e no artigo de Afonso Lelis (2020) sobre Algoritmos Genéticos.\n",
    "\n",
    "*Além disso, o texto colocado aqui foi revisado pelo modelo de linguagem.*"
   ]
  },
  {
   "cell_type": "markdown",
   "id": "4a15fb14",
   "metadata": {},
   "source": [
    "### Desenvolvimento"
   ]
  },
  {
   "cell_type": "markdown",
   "id": "02133146",
   "metadata": {},
   "source": [
    "Aqui estamos importando tanto bibliotecas padrão do Python (`random` e `print`), quanto funções específicas já definidas no arquivo `funcoes_5.py`. Essas funções incluem criação da população, cálculo do valor da função objetivo, seleção, cruzamento e mutação."
   ]
  },
  {
   "cell_type": "code",
   "execution_count": 7,
   "id": "233c33fc",
   "metadata": {},
   "outputs": [],
   "source": [
    "import random\n",
    "from pprint import pprint\n",
    "\n",
    "from funcoes_5 import populacao_Himmelblau as cria_populacao\n",
    "from funcoes_5 import funcao_objetivo_Himmelblau as funcao_objetivo_individuo\n",
    "from funcoes_5 import funcao_objetivo_pop_Himmelblau as funcao_objetivo\n",
    "from funcoes_5 import selecao_torneio_min as funcao_selecao\n",
    "from funcoes_5 import cruzamento_uniforme as funcao_cruzamento\n",
    "from funcoes_5 import mutacao_simples as funcao_mutacao            "
   ]
  },
  {
   "cell_type": "markdown",
   "id": "b6a28e30",
   "metadata": {},
   "source": [
    "Esses parâmetros controlam o comportamento do algoritmo genético, como o tamanho da população, a quantidade de gerações e as chances dos operadores genéticos ocorrerem."
   ]
  },
  {
   "cell_type": "code",
   "execution_count": 8,
   "id": "96045e78",
   "metadata": {},
   "outputs": [],
   "source": [
    "NUM_CAIXAS = 4\n",
    "VALOR_MAX_CAIXA = 100\n",
    "\n",
    "TAMANHO_POPULACAO = 100\n",
    "NUM_GERACOES = 500\n",
    "CHANCE_DE_CRUZAMENTO = 0.5\n",
    "CHANCE_DE_MUTACAO = 0.05\n",
    "CHANCE_DE_MUTACAO_POR_GENE = 0.25\n",
    "TAMANHO_TORNEIO = 3"
   ]
  },
  {
   "cell_type": "markdown",
   "id": "fb5948bc",
   "metadata": {},
   "source": [
    "Criamos uma população inicial com indivíduos aleatórios, e também inicializamos uma lista chamada `hall_da_fama` para armazenar os melhores indivíduos ao longo das gerações."
   ]
  },
  {
   "cell_type": "code",
   "execution_count": 9,
   "id": "e5e9571d",
   "metadata": {},
   "outputs": [],
   "source": [
    "populacao = cria_populacao(TAMANHO_POPULACAO)\n",
    "\n",
    "hall_da_fama = []"
   ]
  },
  {
   "cell_type": "markdown",
   "id": "3c1cad39",
   "metadata": {},
   "source": [
    "É aqui que vai acontecer as principais coisas no algoritmo genético. A cada geração fazemos:\n",
    "\n",
    "- Seleção: seleciona indivíduos mais aptos (menor valor da função objetivo).\n",
    "\n",
    "- Cruzamento: gera novos indivíduos combinando genes de pais selecionados.\n",
    "\n",
    "- Mutação: aplica pequenas alterações aleatórias nos indivíduos."
   ]
  },
  {
   "cell_type": "code",
   "execution_count": 10,
   "id": "ee6a06d0",
   "metadata": {},
   "outputs": [],
   "source": [
    "for n in range(NUM_GERACOES):\n",
    "    \n",
    "    # Seleção\n",
    "    fitness = funcao_objetivo(populacao)        \n",
    "    selecionados = funcao_selecao(populacao, fitness, TAMANHO_TORNEIO)\n",
    "    \n",
    "    # Cruzamento\n",
    "    proxima_geracao = []\n",
    "    for pai, mae in zip(selecionados[::2], selecionados[1::2]):\n",
    "        individuo1, individuo2 = funcao_cruzamento(pai, mae, CHANCE_DE_CRUZAMENTO)\n",
    "        proxima_geracao.append(individuo1)\n",
    "        proxima_geracao.append(individuo2)\n",
    "    \n",
    "    # Mutação\n",
    "    funcao_mutacao(proxima_geracao, CHANCE_DE_MUTACAO)\n",
    "    \n",
    "    # Atualização do hall da fama\n",
    "    fitness = funcao_objetivo(proxima_geracao)\n",
    "        \n",
    "    maior_fitness = min(fitness)\n",
    "    indice = fitness.index(maior_fitness)\n",
    "    hall_da_fama.append(proxima_geracao[indice])    \n",
    "    \n",
    "    # Encerramento\n",
    "    populacao = proxima_geracao"
   ]
  },
  {
   "cell_type": "markdown",
   "id": "048271ee",
   "metadata": {},
   "source": [
    "Depois de todas as gerações, avaliamos os indivíduos do `hall da fama` e identificamos aquele com o menor valor da função objetivo, ou seja, o melhor resultado encontrado."
   ]
  },
  {
   "cell_type": "code",
   "execution_count": 11,
   "id": "65854664",
   "metadata": {},
   "outputs": [
    {
     "data": {
      "text/plain": [
       "[-2.808824064987436, 3.148702647493568]"
      ]
     },
     "execution_count": 11,
     "metadata": {},
     "output_type": "execute_result"
    }
   ],
   "source": [
    "fitness = funcao_objetivo(hall_da_fama)\n",
    "maior_fitness = min(fitness)\n",
    "indice = fitness.index(maior_fitness)\n",
    "melhor_individuo_observado = hall_da_fama[indice]\n",
    "\n",
    "melhor_individuo_observado"
   ]
  },
  {
   "cell_type": "code",
   "execution_count": 12,
   "id": "07bdc5dd",
   "metadata": {},
   "outputs": [
    {
     "data": {
      "text/plain": [
       "0.012590035832425924"
      ]
     },
     "execution_count": 12,
     "metadata": {},
     "output_type": "execute_result"
    }
   ],
   "source": [
    "funcao_objetivo_individuo(melhor_individuo_observado)"
   ]
  },
  {
   "cell_type": "markdown",
   "id": "e81f2893",
   "metadata": {},
   "source": [
    "### Conclusão"
   ]
  },
  {
   "cell_type": "markdown",
   "id": "109ba087",
   "metadata": {},
   "source": [
    "Com esse algoritmo genético, conseguimos encontrar uma aproximação dos mínimos globais da função de Himmelblau. A função possui quatro mínimos globais teóricos aproximadamente nas coordenadas:\n",
    "\n",
    "[1] - (3.0, 2.0)\n",
    "\n",
    "[2] - (-2.805, 3.131)\n",
    "\n",
    "[3] - (-3.779, -3.283)\n",
    "\n",
    "[4] - (3.584, -1.848)\n",
    "\n",
    "O algoritmo pode convergir para qualquer um deles, dependendo da aleatoriedade da população inicial, cruzamentos e mutações. E nesse caso, convergiu parao mínimo global [2], o que indica que a solução está muito perto de um dos quatro mínimos globais da função Himmelblau."
   ]
  },
  {
   "cell_type": "markdown",
   "id": "c1f0bfc2",
   "metadata": {},
   "source": [
    "### Referências"
   ]
  },
  {
   "cell_type": "markdown",
   "id": "fef3d4d4",
   "metadata": {},
   "source": [
    "ATP-303 GA 3.3 – Notebook caixas não-binárias do professor Daniel Roberto Cassar.\n",
    "\n",
    "LELIS, Afonso. Algorítimos Genéticos. Medium. Disponível em: https://medium.com/@afonsolelis/algorítimos-genéticos-61805b619668. Acesso em: 13 jun. 2025."
   ]
  }
 ],
 "metadata": {
  "kernelspec": {
   "display_name": "Python 3 (ipykernel)",
   "language": "python",
   "name": "python3"
  },
  "language_info": {
   "codemirror_mode": {
    "name": "ipython",
    "version": 3
   },
   "file_extension": ".py",
   "mimetype": "text/x-python",
   "name": "python",
   "nbconvert_exporter": "python",
   "pygments_lexer": "ipython3",
   "version": "3.11.5"
  }
 },
 "nbformat": 4,
 "nbformat_minor": 5
}
