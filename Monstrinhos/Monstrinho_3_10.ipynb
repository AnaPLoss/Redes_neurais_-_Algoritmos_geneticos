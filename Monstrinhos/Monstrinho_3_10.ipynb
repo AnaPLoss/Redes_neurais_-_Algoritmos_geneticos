{
 "cells": [
  {
   "cell_type": "markdown",
   "id": "2495d3b6",
   "metadata": {},
   "source": [
    "## 3.10 Praticamente um X-man!\n",
    "\n",
    "Aluna: Ana Luiza Poletto Loss"
   ]
  },
  {
   "cell_type": "markdown",
   "id": "094b7ffc",
   "metadata": {},
   "source": [
    "**Objetivos**: Crie e evolua um algoritmo genético para resolver um problema de otimização que tenha mais do que um operador de mutação. Fica a seu critério se irá permitir que um mesmo indivíduo possa passar por mais de um operador de mutação a cada geração ou se ele deverá passar por apenas um deles caso seja sorteado para mutar. É necessário que os operadores de mutação sejam diferentes para fazer sentido ter mais de um (isto é, não é para usar um mesmo operador e apenas alterar as probabilidades de mutação)."
   ]
  },
  {
   "cell_type": "markdown",
   "id": "b8fe77b9",
   "metadata": {},
   "source": [
    "### Introdução"
   ]
  },
  {
   "cell_type": "markdown",
   "id": "36f2e758",
   "metadata": {},
   "source": [
    "Neste trabalho, desenvolvemos um Algoritmo Genético para resolver um problema clássico de otimização: a descoberta de uma senha-alvo a partir de uma população de sequências de caracteres aleatórios.\n",
    "\n",
    "Diferente de versões básicas de algoritmos genéticos, este exercício tem como objetivo explorar a utilização de múltiplos operadores de mutação, o que pode aumentar a diversidade genética e consequentemente, melhorar a eficiência do algoritmo em encontrar a solução.\n",
    "\n",
    "O desafio é formar, por meio de operadores evolutivos, uma `string` que corresponda exatamente à senha pré-definida.\n",
    "\n",
    "Operadores de mutação utilizados:\n",
    "\n",
    "- `Mutação Simples`: altera um único caractere aleatoriamente.\n",
    "\n",
    "- `Mutação por Salto`: troca um trecho da string por outro completamente novo.\n",
    "\n",
    "- `Mutação Muda Senha`: muda caracteres em múltiplas posições ou realiza operações mais drásticas na `string`.\n",
    "\n",
    "A cada geração, um indivíduo pode sofrer mais de um tipo de mutação, aumentando as chances de escapar de ótimos locais e acelerar a convergência.\n",
    "\n",
    "##### Considerações\n",
    "\n",
    "*As bases teóricas e práticas sobre algoritmos genéticos foram construídas a partir do material disponibilizado no site do ICMC-USP (Algoritmos Genéticos, 2025) e do notebook desenvolvido pelo professor Daniel Roberto Cassar para a disciplina ATP-303 GA 4.2 — Notebook descobrindo a senha.*\n",
    "\n",
    "*Além disso, o texto colocado aqui foi revisado pelo modelo de linguagem.*"
   ]
  },
  {
   "cell_type": "markdown",
   "id": "0310c0aa",
   "metadata": {},
   "source": [
    "#### Desenvolvimento"
   ]
  },
  {
   "cell_type": "markdown",
   "id": "255d2965",
   "metadata": {},
   "source": [
    "Importa bibliotecas padrão para manipulação de `strings` e geração de números aleatórios.\n",
    "\n",
    "Importa funções definidas no arquivo `funcoes_4.py`, que são responsáveis por:\n",
    "\n",
    "- Criação da população.\n",
    "\n",
    "- Avaliação dos indivíduos.\n",
    "\n",
    "- Seleção, cruzamento e três tipos diferentes de mutação."
   ]
  },
  {
   "cell_type": "code",
   "execution_count": 1,
   "id": "233c33fc",
   "metadata": {},
   "outputs": [],
   "source": [
    "import random\n",
    "from string import ascii_lowercase, ascii_uppercase, digits, punctuation\n",
    "\n",
    "from funcoes_4 import populacao_senha as cria_populacao\n",
    "from funcoes_4 import funcao_objetivo_pop_senha as funcao_objetivo\n",
    "from funcoes_4 import selecao_torneio_min as funcao_selecao\n",
    "from funcoes_4 import cruzamento_uniforme as funcao_cruzamento\n",
    "from funcoes_4 import mutacao_simples as funcao_mutacao1\n",
    "from funcoes_4 import mutacao_salto as funcao_mutacao2\n",
    "from funcoes_4 import mutacao_muda_senha as funcao_mutacao3"
   ]
  },
  {
   "cell_type": "markdown",
   "id": "2ad5cd73",
   "metadata": {},
   "source": [
    "Essa célula define a senha alvo que o algoritmo tentará encontrar.\n",
    "\n",
    "- Define o conjunto de caracteres válidos (letras, números e símbolos).\n",
    "\n",
    "- Configura os hiperparâmetros do algoritmo como:\n",
    "\n",
    "Tamanho da população, probabilidade de cruzamento e mutação, tamanho dos torneios na seleção e tamanho mínimo e máximo permitido para as strings da população."
   ]
  },
  {
   "cell_type": "code",
   "execution_count": 2,
   "id": "96045e78",
   "metadata": {},
   "outputs": [],
   "source": [
    "SENHA = list(\"Alpl1006%\")\n",
    "CARACTERES_POSSIVEIS = ascii_lowercase + ascii_uppercase + digits + punctuation\n",
    "\n",
    "TAMANHO_POPULACAO = 100\n",
    "CHANCE_DE_CRUZAMENTO = 0.5\n",
    "CHANCE_DE_MUTACAO = 0.025\n",
    "TAMANHO_TORNEIO = 3\n",
    "TAMANHO_MINIMO = 5\n",
    "TAMANHO_MAXIMO = 30"
   ]
  },
  {
   "cell_type": "markdown",
   "id": "74d1d9be",
   "metadata": {},
   "source": [
    "Aqui vamos criar uma população inicial de strings aleatórias."
   ]
  },
  {
   "cell_type": "code",
   "execution_count": 3,
   "id": "9adefa18",
   "metadata": {},
   "outputs": [],
   "source": [
    "populacao = cria_populacao(TAMANHO_POPULACAO, TAMANHO_MINIMO, TAMANHO_MAXIMO, CARACTERES_POSSIVEIS)"
   ]
  },
  {
   "cell_type": "markdown",
   "id": "05eaf29c",
   "metadata": {},
   "source": [
    "Essa é parte do código que envolve o algoritmo genético. \n",
    "\n",
    "Inicializa-se o fitness global como infinito, para garantir que qualquer valor inicial será melhor e o contador de gerações.\n",
    "\n",
    "Em seguida é executado o algoritmo evolutivo até que o menor fitness seja igual a 0, ou seja, até que um indivíduo atinja exatamente a senha alvo.\n",
    "\n",
    "A cada ciclo da repetição corresponde a uma geração, onde ocorrem:\n",
    "\n",
    "- Seleção: indivíduos mais aptos são escolhidos para reprodução.\n",
    "\n",
    "- Cruzamento: pares de indivíduos geram descendentes combinando genes.\n",
    "\n",
    "- Mutação: aplicam-se três operadores de mutação diferentes, todos na mesma geração, em toda a população.\n",
    "\n",
    "Ao final de cada geração, se encontrar um candidato melhor (com menor fitness), ele é salvo e impresso junto com o número da geração e a execução continua até que algum indivíduo tenha fitness zero (senha correta)."
   ]
  },
  {
   "cell_type": "code",
   "execution_count": 4,
   "id": "382a4b47",
   "metadata": {},
   "outputs": [
    {
     "name": "stdout",
     "output_type": "stream",
     "text": [
      "1 EzofeF8k^\n",
      "2 #tofeF86%\n",
      "5 EzIf>6/W)\n",
      "6 1zhf>6/G)\n",
      "7 ;mof07/G)\n",
      "11 Emof07/G)\n",
      "15 Emof06/G)\n",
      "17 Empf06/G)\n",
      "20 Empg06/G)\n",
      "22 Empg06/G(\n",
      "25 Empg06/F(\n",
      "28 Blpg06/G(\n",
      "29 Blpg06/F(\n",
      "31 Elpn06/F'\n",
      "33 Blpn06/F'\n",
      "36 Blpn06/E'\n",
      "37 Blpn06/?'\n",
      "39 Blpm06/?'\n",
      "43 Blpm06/?&\n",
      "46 Blpm05/?&\n",
      "50 Blpm05/?%\n",
      "54 Blpl05/?%\n",
      "57 Alpl05/?%\n",
      "59 Alpl15/?%\n",
      "63 Alpl15/>%\n",
      "70 Alpl15/=%\n",
      "74 Alpl15/2%\n",
      "95 Alpl13/;%\n",
      "98 Alpl1-/:%\n",
      "104 Alpl1./:%\n",
      "105 Alpl11/:%\n",
      "116 Alpl10/:%\n",
      "170 Alpl10/6%\n",
      "1137 Alpl1006%\n"
     ]
    }
   ],
   "source": [
    "menor_fitness_geral = float(\"inf\")\n",
    "geracao = 0\n",
    "\n",
    "while menor_fitness_geral != 0:\n",
    "    \n",
    "    # Seleção\n",
    "    fitness = funcao_objetivo(populacao, SENHA)        \n",
    "    selecionados = funcao_selecao(populacao, fitness, TAMANHO_TORNEIO)\n",
    "    \n",
    "    # Cruzamento\n",
    "    proxima_geracao = []\n",
    "    for pai, mae in zip(selecionados[::2], selecionados[1::2]):\n",
    "        individuo1, individuo2 = funcao_cruzamento(pai, mae, CHANCE_DE_CRUZAMENTO)\n",
    "        proxima_geracao.append(individuo1)\n",
    "        proxima_geracao.append(individuo2)\n",
    "    \n",
    "    # Mutação\n",
    "    funcao_mutacao1(proxima_geracao, CHANCE_DE_MUTACAO, list(CARACTERES_POSSIVEIS))\n",
    "    funcao_mutacao2(proxima_geracao, CHANCE_DE_MUTACAO, list(CARACTERES_POSSIVEIS))\n",
    "    funcao_mutacao3(proxima_geracao, CHANCE_DE_MUTACAO, list(CARACTERES_POSSIVEIS))\n",
    "    \n",
    "    # Encerramento\n",
    "    populacao = proxima_geracao\n",
    "    geracao += 1\n",
    "    \n",
    "    fitness = funcao_objetivo(populacao, SENHA)\n",
    "    menor_fitness_observado = min(fitness)\n",
    "    \n",
    "    if menor_fitness_observado < menor_fitness_geral:\n",
    "        menor_fitness_geral = menor_fitness_observado\n",
    "        indice = fitness.index(menor_fitness_observado)\n",
    "        candidato = populacao[indice]\n",
    "        print(geracao, \"\".join(candidato))"
   ]
  },
  {
   "cell_type": "markdown",
   "id": "e81f2893",
   "metadata": {},
   "source": [
    "### Conclusão"
   ]
  },
  {
   "cell_type": "markdown",
   "id": "cb816085",
   "metadata": {},
   "source": [
    "O resultado mostra que o algoritmo conseguiu explorar o espaço de busca (em todas as possíveis combinações de strings) e convergir para a solução ótima que, neste caso, é a senha exata.\n",
    "\n",
    "Dessa maneira, o  uso de múltiplos operadores de mutação demonstrou ser uma estratégia eficaz para aumentar a diversidade genética e acelerar a busca pela solução ótima. Cada operador atua de maneira diferente:\n",
    "\n",
    "- A mutação simples explora ajustes finos, alterando um caractere por vez.\n",
    "\n",
    "- A mutação por salto introduz variações mais drásticas, permitindo a exploração de regiões distantes no espaço de busca.\n",
    "\n",
    "- A mutação muda senha promove mudanças estruturais mais amplas na string, auxiliando na fuga de ótimos locais.\n",
    "\n",
    "A aplicação conjunta desses operadores garantiu que o algoritmo convergisse eficientemente para a senha correta, mesmo em um espaço de busca complexo, como é o caso de strings de tamanho e caracteres variáveis."
   ]
  },
  {
   "cell_type": "markdown",
   "id": "c1f0bfc2",
   "metadata": {},
   "source": [
    "### Referências"
   ]
  },
  {
   "cell_type": "markdown",
   "id": "c90f7e00",
   "metadata": {},
   "source": [
    "ALGORITMOS GENÉTICOS. Disponível em: https://sites.icmc.usp.br/andre/research/geneti/. Acesso em: 13 jun. 2025.\n",
    "\n",
    "CASSAR, Daniel Roberto. ATP-303 GA 4.2 — Notebook descobrindo a senha. Notebook da disciplina. 2025."
   ]
  }
 ],
 "metadata": {
  "kernelspec": {
   "display_name": "Python 3 (ipykernel)",
   "language": "python",
   "name": "python3"
  },
  "language_info": {
   "codemirror_mode": {
    "name": "ipython",
    "version": 3
   },
   "file_extension": ".py",
   "mimetype": "text/x-python",
   "name": "python",
   "nbconvert_exporter": "python",
   "pygments_lexer": "ipython3",
   "version": "3.11.5"
  }
 },
 "nbformat": 4,
 "nbformat_minor": 5
}
