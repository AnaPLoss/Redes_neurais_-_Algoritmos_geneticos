{
 "cells": [
  {
   "cell_type": "markdown",
   "metadata": {},
   "source": [
    "#### **Ana Luiza Poletto Loss  RA: 24045**\n",
    "\n",
    "## Monstrinho 3.2 - “Átomos não são bolinhas e ligações químicas não são pauzinhos” \n",
    "— Prof. Julio"
   ]
  },
  {
   "cell_type": "markdown",
   "metadata": {},
   "source": [
    "Objetivo: Utilize classes de Python para modelar elementos químicos e moléculas.\n",
    "\n"
   ]
  },
  {
   "cell_type": "markdown",
   "metadata": {},
   "source": [
    "##### Introdução \n",
    "\n",
    "Para entendermos melhor como uma classe funciona, vamos realizar um exercício abaixo que contemple o que aprendemos na aula de 2.1 de Classe.\n",
    "\n",
    "Considerações do experimento: Crie uma classe chamada *Elemento*. Todo elemento químico utilizado nesta tarefa deve ser uma instância desta classe. Toda instância da classe *Elemento* deve ter os seguintes atributos: símbolo do elemento, número atômico do elemento e peso atômico do elemento (fique à vontade para incluir outras informações se quiser). Crie uma classe chamada *Molecula*. Esta classe deve receber um dicionário onde as chaves representam os elementos e os valores representam a quantidade do respectivo elemento. A classe *Molecula* deve ter um método capaz de exibir o peso atômico da molécula criada e um método capaz de gerar uma fórmula química (em string) para esta molécula.\n",
    "\n",
    "Observação: não é necessário que a fórmula química siga as regras oficiais da química,\n",
    "basta representar os elementos existentes e suas quantidades.\n",
    "\n",
    "O código a seguir consiste em duas classes principais que modelam elementos químicos e moléculas, além de um dicionário que mapeia os símbolos dos elementos para suas respectivas instâncias.\n",
    "\n"
   ]
  },
  {
   "cell_type": "markdown",
   "metadata": {},
   "source": [
    "1 - Para iniciar vamos criar a classe Elemento e adicionar os atributos que vamos buscar colocar nessa tarefa."
   ]
  },
  {
   "cell_type": "code",
   "execution_count": 29,
   "metadata": {},
   "outputs": [],
   "source": [
    "class Elemento:\n",
    "    \"\"\"Classe para representar um elemento químico da tabela periódica.\"\"\"\n",
    "    \n",
    "    def __init__(self, simbolo_do_elemento, numero_atomico_do_elemento, peso_atomico_do_elemento): #parâmetros\n",
    "        self.simbolo_do_elemento = simbolo_do_elemento   #atributos e paramêtros (que podem vir de dicionários)\n",
    "        self.numero_atomico_do_elemento = numero_atomico_do_elemento\n",
    "        self.peso_atomico_do_elemento = peso_atomico_do_elemento"
   ]
  },
  {
   "cell_type": "markdown",
   "metadata": {},
   "source": [
    "2 - Em seguida eu criei a segunda classe pedida, a Molécula, e nela pode-se encontrar o dunder __init__ com os dois atributos, seguido de dois métodos - um para calcular o peso molecular e o outro para dizer a fórmula molecular. Por fim, coloquei o dunder __repr__ para finalizar com a frase que eu queria que terminasse."
   ]
  },
  {
   "cell_type": "code",
   "execution_count": 30,
   "metadata": {},
   "outputs": [],
   "source": [
    "class Molecula:\n",
    "    \"\"\"Classe para representar uma molécula.\n",
    "\n",
    "    Args:\n",
    "        composicao (dict): Dicionário no formato {simbolo_elemento: quantidade}.\n",
    "        elementos (dict): Dicionário global de elementos químicos.\n",
    "    \"\"\"\n",
    "    \n",
    "    def __init__(self, composicao, elementos): #explicação 4, composição é instanciado e elementos vem do dicionário.\n",
    "        self.composicao = composicao  # Atributos, parâmetros, Ex: {\"H\": 2, \"O\": 1}\n",
    "        self.elementos = elementos    # Atributos, parâmetros, Dicionário de elementos\n",
    "    \n",
    "    def peso_molecular(self):\n",
    "        total = 0\n",
    "        for simbolo, quantidade in self.composicao.items(): \n",
    "            total += self.elementos[simbolo].peso_atomico_do_elemento * quantidade\n",
    "        return round(total, 2)  #Retorna o valor arredondado com 2 casas decimais\n",
    "    \n",
    "    def formula(self):\n",
    "        return \"\".join(f\"{simbolo}{quantidade if quantidade > 1 else ''}\"  #join, junta todos os símbolos formatados em uma única string\n",
    "                      for simbolo, quantidade in self.composicao.items())\n",
    "    \n",
    "    def __repr__(self):\n",
    "        return f\" A fórmula é {self.formula()} e o peso molecular é ({self.peso_molecular()}g/mol).\" \n",
    "        #Método especial que define como o objeto Molecula será representado como string"
   ]
  },
  {
   "cell_type": "markdown",
   "metadata": {},
   "source": [
    "3 - Em seguida eu criei um dicionário (nesse caso com todos os elementos da tabela periódica) com o símbolo do elemento, número atômico e peso molecular."
   ]
  },
  {
   "cell_type": "code",
   "execution_count": 31,
   "metadata": {},
   "outputs": [],
   "source": [
    "elementos = {\n",
    "    \"H\": Elemento(\"H\", 1, 1.008), #símbolo, de quem ele é a instancia e os parâmetros dela\n",
    "    \"He\": Elemento(\"He\", 2, 4.0026),\n",
    "    \"Li\": Elemento(\"Li\", 3, 6.94),\n",
    "    \"Be\": Elemento(\"Be\", 4, 9.0122),\n",
    "    \"B\": Elemento(\"B\", 5, 10.81),\n",
    "    \"C\": Elemento(\"C\", 6, 12.011),\n",
    "    \"N\": Elemento(\"N\", 7, 14.007),\n",
    "    \"O\": Elemento(\"O\", 8, 15.999),\n",
    "    \"F\": Elemento(\"F\", 9, 18.998),\n",
    "    \"Ne\": Elemento(\"Ne\", 10, 20.180),\n",
    "    \"Na\": Elemento(\"Na\", 11, 22.990),\n",
    "    \"Mg\": Elemento(\"Mg\", 12, 24.305),\n",
    "    \"Al\": Elemento(\"Al\", 13, 26.982),\n",
    "    \"Si\": Elemento(\"Si\", 14, 28.085),\n",
    "    \"P\": Elemento(\"P\", 15, 30.974),\n",
    "    \"S\": Elemento(\"S\", 16, 32.06),\n",
    "    \"Cl\": Elemento(\"Cl\", 17, 35.45),\n",
    "    \"Ar\": Elemento(\"Ar\", 18, 39.948),\n",
    "    \"K\": Elemento(\"K\", 19, 39.098),\n",
    "    \"Ca\": Elemento(\"Ca\", 20, 40.078),\n",
    "    \"Sc\": Elemento(\"Sc\", 21, 44.956),\n",
    "    \"Ti\": Elemento(\"Ti\", 22, 47.867),\n",
    "    \"V\": Elemento(\"V\", 23, 50.942),\n",
    "    \"Cr\": Elemento(\"Cr\", 24, 51.996),\n",
    "    \"Mn\": Elemento(\"Mn\", 25, 54.938),\n",
    "    \"Fe\": Elemento(\"Fe\", 26, 55.845),\n",
    "    \"Co\": Elemento(\"Co\", 27, 58.933),\n",
    "    \"Ni\": Elemento(\"Ni\", 28, 58.693),\n",
    "    \"Cu\": Elemento(\"Cu\", 29, 63.546),\n",
    "    \"Zn\": Elemento(\"Zn\", 30, 65.38),\n",
    "    \"Ga\": Elemento(\"Ga\", 31, 69.723),\n",
    "    \"Ge\": Elemento(\"Ge\", 32, 72.630),\n",
    "    \"As\": Elemento(\"As\", 33, 74.922),\n",
    "    \"Se\": Elemento(\"Se\", 34, 78.971),\n",
    "    \"Br\": Elemento(\"Br\", 35, 79.904),\n",
    "    \"Kr\": Elemento(\"Kr\", 36, 83.798),\n",
    "    \"Rb\": Elemento(\"Rb\", 37, 85.468),\n",
    "    \"Sr\": Elemento(\"Sr\", 38, 87.62),\n",
    "    \"Y\": Elemento(\"Y\", 39, 88.906),\n",
    "    \"Zr\": Elemento(\"Zr\", 40, 91.224),\n",
    "    \"Nb\": Elemento(\"Nb\", 41, 92.906),\n",
    "    \"Mo\": Elemento(\"Mo\", 42, 95.95),\n",
    "    \"Tc\": Elemento(\"Tc\", 43, 98),\n",
    "    \"Ru\": Elemento(\"Ru\", 44, 101.07),\n",
    "    \"Rh\": Elemento(\"Rh\", 45, 102.91),\n",
    "    \"Pd\": Elemento(\"Pd\", 46, 106.42),\n",
    "    \"Ag\": Elemento(\"Ag\", 47, 107.87),\n",
    "    \"Cd\": Elemento(\"Cd\", 48, 112.41),\n",
    "    \"In\": Elemento(\"In\", 49, 114.82),\n",
    "    \"Sn\": Elemento(\"Sn\", 50, 118.71),\n",
    "    \"Sb\": Elemento(\"Sb\", 51, 121.76),\n",
    "    \"Te\": Elemento(\"Te\", 52, 127.60),\n",
    "    \"I\": Elemento(\"I\", 53, 126.90),\n",
    "    \"Xe\": Elemento(\"Xe\", 54, 131.29),\n",
    "    \"Cs\": Elemento(\"Cs\", 55, 132.91),\n",
    "    \"Ba\": Elemento(\"Ba\", 56, 137.33),\n",
    "    \"La\": Elemento(\"La\", 57, 138.91),\n",
    "    \"Ce\": Elemento(\"Ce\", 58, 140.12),\n",
    "    \"Pr\": Elemento(\"Pr\", 59, 140.91),\n",
    "    \"Nd\": Elemento(\"Nd\", 60, 144.24),\n",
    "    \"Pm\": Elemento(\"Pm\", 61, 145),\n",
    "    \"Sm\": Elemento(\"Sm\", 62, 150.36),\n",
    "    \"Eu\": Elemento(\"Eu\", 63, 151.96),\n",
    "    \"Gd\": Elemento(\"Gd\", 64, 157.25),\n",
    "    \"Tb\": Elemento(\"Tb\", 65, 158.93),\n",
    "    \"Dy\": Elemento(\"Dy\", 66, 162.50),\n",
    "    \"Ho\": Elemento(\"Ho\", 67, 164.93),\n",
    "    \"Er\": Elemento(\"Er\", 68, 167.26),\n",
    "    \"Tm\": Elemento(\"Tm\", 69, 168.93),\n",
    "    \"Yb\": Elemento(\"Yb\", 70, 173.05),\n",
    "    \"Lu\": Elemento(\"Lu\", 71, 174.97),\n",
    "    \"Hf\": Elemento(\"Hf\", 72, 178.49),\n",
    "    \"Ta\": Elemento(\"Ta\", 73, 180.95),\n",
    "    \"W\": Elemento(\"W\", 74, 183.84),\n",
    "    \"Re\": Elemento(\"Re\", 75, 186.21),\n",
    "    \"Os\": Elemento(\"Os\", 76, 190.23),\n",
    "    \"Ir\": Elemento(\"Ir\", 77, 192.22),\n",
    "    \"Pt\": Elemento(\"Pt\", 78, 195.08),\n",
    "    \"Au\": Elemento(\"Au\", 79, 196.97),\n",
    "    \"Hg\": Elemento(\"Hg\", 80, 200.59),\n",
    "    \"Tl\": Elemento(\"Tl\", 81, 204.38),\n",
    "    \"Pb\": Elemento(\"Pb\", 82, 207.2),\n",
    "    \"Bi\": Elemento(\"Bi\", 83, 208.98),\n",
    "    \"Po\": Elemento(\"Po\", 84, 209),\n",
    "    \"At\": Elemento(\"At\", 85, 210),\n",
    "    \"Rn\": Elemento(\"Rn\", 86, 222),\n",
    "    \"Fr\": Elemento(\"Fr\", 87, 223),\n",
    "    \"Ra\": Elemento(\"Ra\", 88, 226),\n",
    "    \"Ac\": Elemento(\"Ac\", 89, 227),\n",
    "    \"Th\": Elemento(\"Th\", 90, 232.04),\n",
    "    \"Pa\": Elemento(\"Pa\", 91, 231.04),\n",
    "    \"U\": Elemento(\"U\", 92, 238.03),\n",
    "    \"Np\": Elemento(\"Np\", 93, 237),\n",
    "    \"Pu\": Elemento(\"Pu\", 94, 244),\n",
    "    \"Am\": Elemento(\"Am\", 95, 243),\n",
    "    \"Cm\": Elemento(\"Cm\", 96, 247),\n",
    "    \"Bk\": Elemento(\"Bk\", 97, 247),\n",
    "    \"Cf\": Elemento(\"Cf\", 98, 251),\n",
    "    \"Es\": Elemento(\"Es\", 99, 252),\n",
    "    \"Fm\": Elemento(\"Fm\", 100, 257),\n",
    "    \"Md\": Elemento(\"Md\", 101, 258),\n",
    "    \"No\": Elemento(\"No\", 102, 259),\n",
    "    \"Lr\": Elemento(\"Lr\", 103, 262),\n",
    "    \"Rf\": Elemento(\"Rf\", 104, 267),\n",
    "    \"Db\": Elemento(\"Db\", 105, 268),\n",
    "    \"Sg\": Elemento(\"Sg\", 106, 269),\n",
    "    \"Bh\": Elemento(\"Bh\", 107, 270),\n",
    "    \"Hs\": Elemento(\"Hs\", 108, 277),\n",
    "    \"Mt\": Elemento(\"Mt\", 109, 278),\n",
    "    \"Ds\": Elemento(\"Ds\", 110, 281),\n",
    "    \"Rg\": Elemento(\"Rg\", 111, 282),\n",
    "    \"Cn\": Elemento(\"Cn\", 112, 285),\n",
    "    \"Nh\": Elemento(\"Nh\", 113, 286),\n",
    "    \"Fl\": Elemento(\"Fl\", 114, 289),\n",
    "    \"Mc\": Elemento(\"Mc\", 115, 290),\n",
    "    \"Lv\": Elemento(\"Lv\", 116, 293),\n",
    "    \"Ts\": Elemento(\"Ts\", 117, 294),\n",
    "    \"Og\": Elemento(\"Og\", 118, 294)\n",
    "}"
   ]
  },
  {
   "cell_type": "markdown",
   "metadata": {},
   "source": [
    "4 - Nesse momento eu criei um bloco com as instâncias a partir da classe Molecula, passando um dicionário que representa a composição química da molécula e pelo dicionário elementos. Cada instância de Molecula é criada passando um dicionário de composição e o dicionário global elementos."
   ]
  },
  {
   "cell_type": "code",
   "execution_count": 32,
   "metadata": {},
   "outputs": [],
   "source": [
    "agua = Molecula({\"H\": 2, \"O\": 1}, elementos)  #instâncias de moléculas (água e gás carbônico) usando uma classe Molecula\n",
    "gas_carbonico = Molecula({\"C\": 1, \"O\": 2}, elementos)\n",
    "glicose = Molecula({\"C\": 6, \"H\": 12, \"O\": 6}, elementos)\n",
    "metano = Molecula({\"C\": 1, \"H\": 4}, elementos)\n",
    "sulfato_de_sodio = Molecula({\"Na\": 2, \"S\": 1, \"O\": 4}, elementos)\n",
    "acido_sulfurico = Molecula({\"H\": 2, \"S\": 1, \"O\": 4}, elementos)\n",
    "etanol = Molecula({\"C\": 2, \"H\": 6, \"O\": 1}, elementos)\n",
    "amonia = Molecula({\"N\": 1, \"H\": 3}, elementos)\n",
    "cloreto_de_sodio = Molecula({\"Na\": 1, \"Cl\": 1}, elementos)\n",
    "peroxido_de_hidrogenio = Molecula({\"H\": 2, \"O\": 2}, elementos)\n",
    "\n"
   ]
  },
  {
   "cell_type": "markdown",
   "metadata": {},
   "source": [
    "5 - Finalmente, ao imprimir as instâncias, o método __repr__ é chamado automaticamente, mostrando a fórmula e o peso molecular formatado."
   ]
  },
  {
   "cell_type": "code",
   "execution_count": 33,
   "metadata": {},
   "outputs": [
    {
     "name": "stdout",
     "output_type": "stream",
     "text": [
      "Água:  A fórmula é H2O e o peso molecular é (18.02g/mol).\n",
      "CO₂:  A fórmula é CO2 e o peso molecular é (44.01g/mol).\n",
      "Glicose:  A fórmula é C6H12O6 e o peso molecular é (180.16g/mol).\n",
      "Metano:  A fórmula é CH4 e o peso molecular é (16.04g/mol).\n",
      "Sulfato de Sódio:  A fórmula é Na2SO4 e o peso molecular é (142.04g/mol).\n",
      "Ácido Sulfúrico:  A fórmula é H2SO4 e o peso molecular é (98.07g/mol).\n",
      "Etanol:  A fórmula é C2H6O e o peso molecular é (46.07g/mol).\n",
      "Amônia:  A fórmula é NH3 e o peso molecular é (17.03g/mol).\n",
      "Cloreto de Sódio:  A fórmula é NaCl e o peso molecular é (58.44g/mol).\n",
      "Peróxido de Hidrogênio:  A fórmula é H2O2 e o peso molecular é (34.01g/mol).\n"
     ]
    }
   ],
   "source": [
    "#Converte o objeto em string usando o método definido na classe, gera a fórmula molecular, calcula o peso e ombinada via f-string no __repr__.\n",
    "print(\"Água:\", agua)  \n",
    "print(\"CO₂:\", gas_carbonico)\n",
    "print(\"Glicose:\", glicose)\n",
    "print(\"Metano:\", metano)\n",
    "print(\"Sulfato de Sódio:\", sulfato_de_sodio)\n",
    "print(\"Ácido Sulfúrico:\", acido_sulfurico)\n",
    "print(\"Etanol:\", etanol)\n",
    "print(\"Amônia:\", amonia)\n",
    "print(\"Cloreto de Sódio:\", cloreto_de_sodio)\n",
    "print(\"Peróxido de Hidrogênio:\", peroxido_de_hidrogenio)"
   ]
  },
  {
   "cell_type": "markdown",
   "metadata": {},
   "source": [
    "#### Conclusão\n",
    "\n",
    "Este tabalho mostrou um exemplo da química para calcular o peso e a fórmula de moléculas usando classes e dicionários. A classe Elemento armazena dados como símbolo e peso atômico, enquanto a classe Molecula faz os cálculos e exibe o resultado. Um dicionário guarda as informações dos elementos, evitando repetiçãoo de código. O m´etodo repr formata a saída para mostrar a fórmula e o peso de forma clara. Assim, é possível ver como organizar o código com classes, usar dicionários para buscar dados e melhorar a apresentação com métodos especiais."
   ]
  },
  {
   "cell_type": "markdown",
   "metadata": {},
   "source": [
    "#### Referências\n",
    "\n",
    "Erro corrigido pelo chat. https://chatgpt.com/share/67e33c86-2d58-8004-b74b-9f2de8059b06"
   ]
  }
 ],
 "metadata": {
  "kernelspec": {
   "display_name": "Python 3 (ipykernel)",
   "language": "python",
   "name": "python3"
  },
  "language_info": {
   "codemirror_mode": {
    "name": "ipython",
    "version": 3
   },
   "file_extension": ".py",
   "mimetype": "text/x-python",
   "name": "python",
   "nbconvert_exporter": "python",
   "pygments_lexer": "ipython3",
   "version": "3.11.5"
  }
 },
 "nbformat": 4,
 "nbformat_minor": 2
}
