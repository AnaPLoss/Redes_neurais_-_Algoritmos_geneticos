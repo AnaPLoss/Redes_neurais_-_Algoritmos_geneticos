{
 "cells": [
  {
   "cell_type": "markdown",
   "id": "52d7171b",
   "metadata": {},
   "source": [
    "##  4.9 A senha de tamanho variável\n",
    "\n",
    "\n",
    "#### Aluna: Ana Luiza Poletto Loss"
   ]
  },
  {
   "cell_type": "markdown",
   "id": "d3471faa",
   "metadata": {},
   "source": [
    "**Objetivo**: Resolver o problema da senha de forma que você não forneça a informação do tamanho da senha para a função que gera a população. Considere que a senha pode ser uma string de 1 até 30 caracteres."
   ]
  },
  {
   "cell_type": "markdown",
   "id": "5008671f",
   "metadata": {},
   "source": [
    "### Introdução\n",
    "\n",
    "Neste trabalho, o objetivo é resolver o problema de descoberta de uma senha desconhecida utilizando um algoritmo genético. Diferentemente de abordagens tradicionais, aqui não fornecemos diretamente o tamanho da senha para a função que cria a população inicial. Em vez disso, consideramos que a senha pode ter um comprimento variável entre 1 e 30 caracteres. O algoritmo genético, inspirado na seleção natural, irá evoluir populações de possíveis senhas ao longo de várias gerações, combinando e mutando indivíduos para encontrar a senha correta ou uma aproximação cada vez melhor dela.\n",
    "\n",
    "O problema é desafiador pois o espaço de soluções possíveis é muito grande, incluindo senhas com diferentes tamanhos e caracteres variados, compostos por letras minúsculas, maiúsculas e dígitos. Para isso, implementamos diversas funções que geram a população, avaliam o quão próxima cada senha candidata está da senha correta, selecionam os melhores indivíduos para reprodução, realizam cruzamentos e mutações para explorar o espaço de soluções.\n",
    "\n",
    "\n",
    "##### Considerações\n",
    "\n",
    "*As bases teóricas e práticas sobre algoritmos genéticos foram construídas a partir do material disponibilizado no site do ICMC-USP (Algoritmos Genéticos, 2025) e do notebook desenvolvido pelo professor Daniel Roberto Cassar para a disciplina ATP-303 GA 4.2 — Notebook descobrindo a senha.*\n",
    "\n",
    "*Além disso, o texto colocado aqui foi revisado pelo modelo de linguagem.*"
   ]
  },
  {
   "cell_type": "markdown",
   "id": "950a6814",
   "metadata": {},
   "source": [
    "#### Desenvolvimento"
   ]
  },
  {
   "cell_type": "markdown",
   "id": "f1cb3b4c",
   "metadata": {},
   "source": [
    "Aqui são importadas as bibliotecas necessárias e funções auxiliares definidas externamente no arquivo `funcoes_4.py`. Essas funções implementam operações básicas do algoritmo genético como criação da população, cálculo do fitness, seleção, cruzamento e diferentes tipos de mutação."
   ]
  },
  {
   "cell_type": "code",
   "execution_count": 1,
   "id": "cea93110",
   "metadata": {},
   "outputs": [],
   "source": [
    "import random\n",
    "from string import ascii_lowercase, ascii_uppercase, digits\n",
    "\n",
    "from funcoes_4 import populacao_senha as cria_populacao\n",
    "from funcoes_4 import funcao_objetivo_pop_senha as funcao_objetivo\n",
    "from funcoes_4 import selecao_torneio_min as funcao_selecao\n",
    "from funcoes_4 import cruzamento_uniforme as funcao_cruzamento\n",
    "from funcoes_4 import mutacao_simples as funcao_mutacao1\n",
    "from funcoes_4 import mutacao_salto as funcao_mutacao2\n",
    "from funcoes_4 import mutacao_muda_senha as funcao_mutacao3"
   ]
  },
  {
   "cell_type": "markdown",
   "id": "55c33102",
   "metadata": {},
   "source": [
    "Aqui definimos a senha alvo que o algoritmo tentará descobrir. Também listamos os caracteres possíveis para construir as senhas candidatas. Em seguida, definimos os parâmetros do algoritmo genético: tamanho da população, chance de cruzamento e mutação, tamanho do torneio de seleção e o intervalo do tamanho variável que cada senha pode ter (entre 5 e 30 caracteres)."
   ]
  },
  {
   "cell_type": "code",
   "execution_count": 2,
   "id": "5c67277e",
   "metadata": {},
   "outputs": [],
   "source": [
    "SENHA = list(\"Pipoca07\")\n",
    "CARACTERES_POSSIVEIS = ascii_lowercase + ascii_uppercase + digits\n",
    "\n",
    "TAMANHO_POPULACAO = 100\n",
    "CHANCE_DE_CRUZAMENTO = 0.5\n",
    "CHANCE_DE_MUTACAO = 0.025\n",
    "TAMANHO_TORNEIO = 3\n",
    "TAMANHO_MINIMO = 5\n",
    "TAMANHO_MAXIMO = 30"
   ]
  },
  {
   "cell_type": "markdown",
   "id": "40c0f3e3",
   "metadata": {},
   "source": [
    "Essa linha cria a população inicial de indivíduos (senhas candidatas), com tamanhos variados entre o mínimo e máximo definidos, utilizando os caracteres possíveis. A população é uma lista de listas de caracteres."
   ]
  },
  {
   "cell_type": "code",
   "execution_count": 3,
   "id": "2beeb362",
   "metadata": {},
   "outputs": [],
   "source": [
    "populacao = cria_populacao(TAMANHO_POPULACAO, TAMANHO_MINIMO, TAMANHO_MAXIMO, CARACTERES_POSSIVEIS)"
   ]
  },
  {
   "cell_type": "markdown",
   "id": "9567d394",
   "metadata": {},
   "source": [
    "Aqui é a parte que acontece o algoritmo genético e suas etapas:\n",
    "\n",
    "- Começa com a avaliação do fitness: calcula a adequação de cada senha candidata comparando-a com a senha correta.\n",
    "\n",
    "- Seleção por torneio: seleciona os melhores indivíduos para reprodução, promovendo a sobrevivência dos mais aptos.\n",
    "\n",
    "- Cruzamento uniforme: combina pares de senhas para gerar filhos que herdaram características de ambos os pais.\n",
    "\n",
    "- Mutações: aplica três tipos diferentes de mutações para manter a diversidade genética e evitar que o algoritmo fique preso em ótimos locais.\n",
    "\n",
    "- Atualização da população: a nova geração substitui a anterior.\n",
    "\n",
    "- Critério de parada: o loop continua até que o fitness seja zero, ou seja, até que a senha correta seja encontrada.\n",
    "\n",
    "Durante o processo, o código imprime o progresso mostrando a melhor solução encontrada até então e sua geração."
   ]
  },
  {
   "cell_type": "code",
   "execution_count": 4,
   "id": "c1564f90",
   "metadata": {},
   "outputs": [
    {
     "name": "stdout",
     "output_type": "stream",
     "text": [
      "1 gkofPPS7\n",
      "3 ImsfbaQE\n",
      "6 ImsfbaS8\n",
      "7 PvofbaS7\n",
      "8 PmofbaQ8\n",
      "10 PmoobaS8\n",
      "12 PmoobaQ8\n",
      "13 PmoobaQ7\n",
      "15 PloobaQ7\n",
      "17 PkoobaQ7\n",
      "21 PkoobaP7\n",
      "26 PkoocaP7\n",
      "35 PjoocaP7\n",
      "39 Pkooca07\n",
      "40 Pjooca07\n",
      "42 Pjpoca07\n",
      "44 Pipoca07\n"
     ]
    }
   ],
   "source": [
    "menor_fitness_geral = float(\"inf\")\n",
    "geracao = 0\n",
    "\n",
    "while menor_fitness_geral != 0:\n",
    "    \n",
    "    # Seleção\n",
    "    fitness = funcao_objetivo(populacao, SENHA)        \n",
    "    selecionados = funcao_selecao(populacao, fitness, TAMANHO_TORNEIO)\n",
    "    \n",
    "    # Cruzamento\n",
    "    proxima_geracao = []\n",
    "    for pai, mae in zip(selecionados[::2], selecionados[1::2]):\n",
    "        individuo1, individuo2 = funcao_cruzamento(pai, mae, CHANCE_DE_CRUZAMENTO)\n",
    "        proxima_geracao.append(individuo1)\n",
    "        proxima_geracao.append(individuo2)\n",
    "    \n",
    "    # Mutação\n",
    "    funcao_mutacao1(proxima_geracao, CHANCE_DE_MUTACAO, list(CARACTERES_POSSIVEIS))\n",
    "    funcao_mutacao2(proxima_geracao, CHANCE_DE_MUTACAO, list(CARACTERES_POSSIVEIS))\n",
    "    funcao_mutacao3(proxima_geracao, CHANCE_DE_MUTACAO, list(CARACTERES_POSSIVEIS))\n",
    "    \n",
    "    # Encerramento\n",
    "    populacao = proxima_geracao\n",
    "    geracao += 1\n",
    "    \n",
    "    fitness = funcao_objetivo(populacao, SENHA)\n",
    "    menor_fitness_observado = min(fitness)\n",
    "    \n",
    "    if menor_fitness_observado < menor_fitness_geral:\n",
    "        menor_fitness_geral = menor_fitness_observado\n",
    "        indice = fitness.index(menor_fitness_observado)\n",
    "        candidato = populacao[indice]\n",
    "        print(geracao, \"\".join(candidato))"
   ]
  },
  {
   "cell_type": "markdown",
   "id": "191301ef",
   "metadata": {},
   "source": [
    "### Conclusão"
   ]
  },
  {
   "cell_type": "markdown",
   "id": "cbca7684",
   "metadata": {},
   "source": [
    "Neste trabalho, implementamos um algoritmo genético capaz de descobrir uma senha de tamanho variável sem que o tamanho fosse informado previamente à função geradora da população. A estratégia de manter senhas com tamanho entre 5 e 30 caracteres e permitir mutações que alteram tamanho e conteúdo possibilitou explorar um grande espaço de soluções.\n",
    "\n",
    "Os resultados mostram que o algoritmo é capaz de evoluir populações até encontrar a senha correta, adaptando-se de forma eficiente ao comprimento variável das soluções candidatas. Além disso, o uso de múltiplas estratégias de mutação aumenta a diversidade genética, facilitando a exploração e evitando convergência prematura."
   ]
  },
  {
   "cell_type": "markdown",
   "id": "dc216d87",
   "metadata": {},
   "source": [
    "### Referências"
   ]
  },
  {
   "cell_type": "markdown",
   "id": "318955e3",
   "metadata": {},
   "source": [
    "ALGORITMOS GENÉTICOS. Disponível em: https://sites.icmc.usp.br/andre/research/geneti/. Acesso em: 13 jun. 2025.\n",
    "\n",
    "CASSAR, Daniel Roberto. ATP-303 GA 4.2 — Notebook descobrindo a senha. Notebook da disciplina. 2025."
   ]
  }
 ],
 "metadata": {
  "kernelspec": {
   "display_name": "ilumpy",
   "language": "python",
   "name": "ilumpy"
  },
  "language_info": {
   "codemirror_mode": {
    "name": "ipython",
    "version": 3
   },
   "file_extension": ".py",
   "mimetype": "text/x-python",
   "name": "python",
   "nbconvert_exporter": "python",
   "pygments_lexer": "ipython3",
   "version": "3.11.6"
  }
 },
 "nbformat": 4,
 "nbformat_minor": 5
}
