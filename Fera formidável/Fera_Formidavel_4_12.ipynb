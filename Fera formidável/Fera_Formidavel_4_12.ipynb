{
 "cells": [
  {
   "cell_type": "markdown",
   "id": "cbd68ce8",
   "metadata": {},
   "source": [
    "# **4.12 Novos palíndromos** "
   ]
  },
  {
   "cell_type": "markdown",
   "id": "66703d84",
   "metadata": {},
   "source": [
    "Dupla: Adrian Lincoln Paz Silva & Ana Luiza Poletto Loss\n",
    "\n",
    "Objetivo: Encontre pelo menos 10 palíndromos diferentes de 5 letras. Estes palíndromos devem ter pelo menos uma vogal. Não é necessário que eles formem palavras válidas\n",
    "em português ou qualquer outro idioma.\n"
   ]
  },
  {
   "cell_type": "markdown",
   "id": "6d4fe805",
   "metadata": {},
   "source": [
    "### Introdução"
   ]
  },
  {
   "cell_type": "markdown",
   "id": "ab1f73fc",
   "metadata": {},
   "source": [
    "Este notebook tem como objetivo simular a formação de palavras palíndromas (aquelas que podem ser lidas da mesma forma de trás para frente) por meio de um algoritmo genético simples [1]. Utilizando conceitos da biologia evolutiva, como mutação e seleção, o código explora uma maneira computacional de gerar sequências otimizadas com propriedades específicas, neste caso, o palindromismo. Usamos como referência para fazer este trabalho esse git de algoritmos genéticos simples com palíndromos [2].\n",
    "\n",
    "A ideia central é criar indivíduos compostos por letras e avaliá-los com base em sua semelhança com um palíndromo. Ao longo das gerações, esses indivíduos são modificados e selecionados, com o objetivo de evoluírem para uma solução ideal."
   ]
  },
  {
   "cell_type": "markdown",
   "id": "dda47658",
   "metadata": {},
   "source": [
    "**Importação de bibliotecas e definição de variáveis iniciais**\n",
    "\n",
    "As bibliotecas `random`, `string` e `numpy` são importadas. São definidas variáveis como o alfabeto (`ascii_lowercase`) e a lista de vogais para uso posterior."
   ]
  },
  {
   "cell_type": "code",
   "execution_count": null,
   "id": "051b1a89",
   "metadata": {},
   "outputs": [],
   "source": [
    "import random\n",
    "from string import ascii_lowercase\n",
    "import numpy\n",
    "\n",
    "caracteres_possiveis = ascii_lowercase\n",
    "vogais = ['a', 'e', 'i', 'o', 'u']"
   ]
  },
  {
   "cell_type": "markdown",
   "id": "71c7e7d3",
   "metadata": {},
   "source": [
    "Aqui definimos uma função que retorna uma letra aleatória a partir de uma lista de caracteres possíveis. Essa função simula a geração de um gene."
   ]
  },
  {
   "cell_type": "code",
   "execution_count": 3,
   "id": "d86a9c2b",
   "metadata": {},
   "outputs": [],
   "source": [
    "#função que randomiza caracteres\n",
    "def gene_palindromo(caracteres):\n",
    "    letra = random.choice(caracteres)\n",
    "    return letra"
   ]
  },
  {
   "cell_type": "markdown",
   "id": "a2779c07",
   "metadata": {},
   "source": [
    "Essa função cria uma lista de letras (um \"candidato\") com tamanho especificado, utilizando a função de gene anterior."
   ]
  },
  {
   "cell_type": "code",
   "execution_count": 4,
   "id": "be8b9174",
   "metadata": {},
   "outputs": [],
   "source": [
    "def cria_candidato_palindromo(tamanho_palindromo, caracteres):\n",
    "    candidatos = []\n",
    "    \n",
    "    for _ in range(tamanho_palindromo):\n",
    "        candidatos.append(gene_palindromo(caracteres))\n",
    "        \n",
    "    return candidatos"
   ]
  },
  {
   "cell_type": "markdown",
   "id": "faed7701",
   "metadata": {},
   "source": [
    "Essa dunção cria uma população inicial de candidatos a palíndromos. Cada candidato é uma lista de letras e o conjunto de todos esses candidatos forma a população."
   ]
  },
  {
   "cell_type": "code",
   "execution_count": 5,
   "id": "af7060bb",
   "metadata": {},
   "outputs": [],
   "source": [
    "def populacao_palindromo(tamanho_populacao, tamanho_palindromo, caracteres):\n",
    "    populacao = []\n",
    "    \n",
    "    for _ in range(tamanho_populacao):\n",
    "        populacao.append(cria_candidato_palindromo(tamanho_palindromo, caracteres))\n",
    "        \n",
    "    return populacao"
   ]
  },
  {
   "cell_type": "markdown",
   "id": "7e42e21b",
   "metadata": {},
   "source": [
    "Essa função calcula um valor de erro para um candidato (uma lista de letras), baseado em dois critérios:\n",
    "\n",
    "- Se o candidato não contém nenhuma vogal, ela penaliza.\n",
    "\n",
    "- Se o candidato não é um palíndromo perfeito, penaliza por cada letra que não bate com seu espelho."
   ]
  },
  {
   "cell_type": "code",
   "execution_count": 16,
   "id": "97cf1ff8",
   "metadata": {},
   "outputs": [],
   "source": [
    "#função que calcula erro\n",
    "def funcao_objetivo_palindromo(candidato):\n",
    "    inverso = candidato[::-1]\n",
    "    contagem_erro = 0\n",
    "    contagem_vogais = 0\n",
    "    for elemento in candidato:\n",
    "        for vogal in vogais:\n",
    "            contagem_vogais += 1 if elemento == vogal else 0\n",
    "    contagem_erro += 1 if contagem_vogais == 0 else 0\n",
    "    for elemento, caracter in zip(inverso, candidato):\n",
    "        if elemento != caracter:\n",
    "            contagem_erro += 1\n",
    "        else:\n",
    "            contagem_erro += 0\n",
    "    return contagem_erro"
   ]
  },
  {
   "cell_type": "markdown",
   "id": "f072d87a",
   "metadata": {},
   "source": [
    "Essa função recebe uma população e aplica a função `funcao_objetivo_palindromo` para cada indivíduo da população.\n",
    "Cria uma lista fitness com os valores dessa função objetivo para cada indivíduo e então retorna essa lista de fitness, que serve para avaliar a qualidade dos indivíduos."
   ]
  },
  {
   "cell_type": "code",
   "execution_count": null,
   "id": "f91b02e3",
   "metadata": {},
   "outputs": [],
   "source": [
    "#função que calcula erro\n",
    "def funcao_objetivo_palindromo_pop(populacao):\n",
    "    fitness = []\n",
    "    \n",
    "    for individuo in populacao:\n",
    "        fitness.append(funcao_objetivo_palindromo(individuo))\n",
    "    return fitness"
   ]
  },
  {
   "cell_type": "markdown",
   "id": "1e2067c0",
   "metadata": {},
   "source": [
    "Para cada posição da nova população é sorteado `tamanho_torneio` indivíduos aleatórios. Então é avaliado o fitness deles e escolhe o melhor (no caso, o que tem o menor valor, já que parece que fitness menor é melhor). Esse indivíduo selecionado é adicionado na lista selecionados. Ao final, retorna a lista de indivíduos selecionados para formar a próxima geração."
   ]
  },
  {
   "cell_type": "code",
   "execution_count": 18,
   "id": "8184bd8e",
   "metadata": {},
   "outputs": [],
   "source": [
    "def funcao_selecao(populacao, fitness, tamanho_torneio):\n",
    "    selecionados = []\n",
    "    \n",
    "    for _ in range(len(populacao)):\n",
    "        sorteados = random.sample(populacao, tamanho_torneio)\n",
    "        \n",
    "        fitness_sorteados = []\n",
    "        for individuo in sorteados:\n",
    "            indice_individuo = populacao.index(individuo)\n",
    "            fitness_sorteados.append(fitness[indice_individuo])\n",
    "            \n",
    "        min_fitness = min(fitness_sorteados)\n",
    "        indice_min_fitness = fitness_sorteados.index(min_fitness)\n",
    "        individuo_selecionado = sorteados[indice_min_fitness]\n",
    "        \n",
    "        selecionados.append(individuo_selecionado)\n",
    "    \n",
    "    return selecionados"
   ]
  },
  {
   "cell_type": "markdown",
   "id": "2b50851a",
   "metadata": {},
   "source": [
    "Para cada candidato, escolhe um índice aleatório. Remove o elemento na posição escolhida (pop) e insere um novo valor aleatório na posição seguinte (insert). Parece que a intenção é substituir um caractere do candidato por outro aleatório, simulando mutação."
   ]
  },
  {
   "cell_type": "code",
   "execution_count": 19,
   "id": "555832ea",
   "metadata": {},
   "outputs": [],
   "source": [
    "def mutacao_palindromo(populacao, chance_de_mutacao, valores_possiveis):\n",
    "    for candidato in populacao:\n",
    "        indices_possiveis = [0, 1, 2, 3, 4]\n",
    "        indice_escolhido = random.choice(indices_possiveis)\n",
    "        for elemento in candidato:\n",
    "            elemento_adicionado = candidato.insert(indice_escolhido + 1, random.choice(valores_possiveis))\n",
    "            elemento_apagado = candidato.pop(indice_escolhido)   "
   ]
  },
  {
   "cell_type": "code",
   "execution_count": 3,
   "id": "0a3c6ec4",
   "metadata": {},
   "outputs": [],
   "source": [
    "TAMANHO_POPULACAO = 100\n",
    "CHANCE_DE_CRUZAMENTO = 0.5\n",
    "CHANCE_DE_MUTACAO = 0.025\n",
    "TAMANHO_TORNEIO = 3"
   ]
  },
  {
   "cell_type": "code",
   "execution_count": 21,
   "id": "8a9f3918",
   "metadata": {},
   "outputs": [
    {
     "name": "stdout",
     "output_type": "stream",
     "text": [
      "[['c', 'f', 'k', 'v', 'x'], ['n', 'l', 'd', 'd', 'd'], ['e', 'c', 'm', 'g', 's'], ['f', 'k', 'a', 'a', 'x'], ['n', 'w', 'l', 'j', 't'], ['r', 'm', 'w', 'b', 'b'], ['l', 'd', 'y', 'l', 'a'], ['r', 'p', 'i', 'f', 'a'], ['j', 'y', 's', 'b', 'y'], ['t', 'z', 'v', 'o', 'k'], ['y', 'h', 'd', 'x', 'b'], ['q', 'g', 't', 'f', 'u'], ['l', 'u', 'y', 'g', 'e'], ['m', 't', 'z', 'q', 'g'], ['u', 'q', 'p', 'd', 'u'], ['d', 'g', 'e', 's', 'r'], ['j', 'p', 'j', 'b', 'x'], ['m', 'y', 'b', 'z', 'e'], ['h', 'c', 'q', 'x', 'w'], ['r', 'f', 'v', 'c', 'a'], ['l', 'a', 'd', 'h', 'x'], ['t', 'f', 'u', 'y', 'h'], ['q', 'r', 'n', 'j', 'p'], ['p', 'i', 'l', 'm', 'h'], ['u', 'w', 'o', 'o', 'z'], ['i', 'g', 'o', 'k', 'm'], ['g', 'u', 'i', 'a', 's'], ['p', 'r', 't', 'h', 'c'], ['x', 'l', 'w', 'g', 'r'], ['b', 'b', 'p', 'n', 'm'], ['v', 'k', 'c', 'l', 't'], ['h', 'm', 'o', 'j', 'u'], ['x', 'u', 'u', 'l', 'x'], ['v', 'a', 'h', 's', 'g'], ['c', 'h', 'c', 'l', 'c'], ['z', 'k', 'c', 'u', 'k'], ['e', 'j', 'a', 'w', 'n'], ['s', 'e', 'z', 'g', 'x'], ['j', 'm', 'r', 'v', 'w'], ['g', 'x', 'v', 'n', 'v'], ['e', 'u', 't', 's', 'e'], ['t', 'i', 'o', 'd', 'z'], ['o', 'd', 'v', 'x', 'l'], ['r', 'p', 'j', 'k', 's'], ['q', 'k', 'x', 'c', 's'], ['x', 'o', 'i', 'a', 'c'], ['j', 'b', 'p', 'k', 'p'], ['y', 'f', 'r', 'j', 'j'], ['y', 'r', 'h', 'r', 'l'], ['j', 'z', 'l', 'z', 'e'], ['p', 'b', 'c', 'm', 'c'], ['p', 's', 'h', 'm', 'd'], ['e', 'z', 'p', 'l', 'm'], ['m', 'r', 't', 'u', 'l'], ['q', 'f', 'q', 't', 'x'], ['q', 'c', 't', 'a', 's'], ['m', 'x', 'w', 'u', 'v'], ['c', 'c', 'u', 'q', 'b'], ['r', 'l', 'c', 'g', 'g'], ['a', 'f', 'g', 'q', 'e'], ['k', 's', 't', 'i', 'v'], ['v', 'l', 'z', 'f', 'k'], ['u', 'k', 'd', 'h', 't'], ['a', 'o', 'u', 'f', 'e'], ['e', 'k', 'u', 'l', 'z'], ['i', 'q', 'b', 'o', 'y'], ['y', 'l', 'k', 'h', 'h'], ['f', 's', 'd', 'r', 'b'], ['c', 'd', 'i', 'j', 'q'], ['d', 'u', 'm', 'r', 'w'], ['b', 's', 'r', 'w', 'k'], ['b', 'q', 'r', 'm', 'q'], ['u', 'b', 'd', 's', 'd'], ['k', 'h', 'h', 'e', 'v'], ['z', 'n', 'e', 'e', 'j'], ['t', 'n', 'y', 'z', 'e'], ['y', 'z', 'f', 'i', 'r'], ['d', 'n', 'f', 'r', 'h'], ['t', 'y', 't', 'a', 'w'], ['a', 'd', 'e', 'd', 'm'], ['h', 'l', 'q', 'i', 'o'], ['a', 'x', 'z', 'f', 'e'], ['x', 'f', 'w', 'v', 'm'], ['w', 'h', 'y', 'm', 'y'], ['x', 'o', 'q', 'g', 'c'], ['k', 't', 'a', 'f', 'z'], ['u', 'q', 'j', 'l', 't'], ['h', 'a', 'o', 'w', 'k'], ['b', 'g', 'f', 'e', 'w'], ['r', 'p', 'v', 'r', 'd'], ['n', 'j', 'y', 'u', 'p'], ['t', 'w', 'k', 'p', 'f'], ['v', 't', 'm', 'n', 'y'], ['e', 'v', 'k', 'n', 'p'], ['m', 'm', 'j', 'v', 'k'], ['d', 'u', 'x', 'z', 'a'], ['u', 'd', 'o', 'l', 'v'], ['g', 'l', 'r', 'z', 'y'], ['j', 'o', 'e', 't', 't'], ['d', 'v', 'e', 'y', 'h']]\n"
     ]
    },
    {
     "data": {
      "text/plain": [
       "[5,\n",
       " 5,\n",
       " 4,\n",
       " 4,\n",
       " 5,\n",
       " 5,\n",
       " 4,\n",
       " 4,\n",
       " 5,\n",
       " 4,\n",
       " 5,\n",
       " 4,\n",
       " 4,\n",
       " 5,\n",
       " 2,\n",
       " 4,\n",
       " 5,\n",
       " 4,\n",
       " 5,\n",
       " 4,\n",
       " 4,\n",
       " 4,\n",
       " 5,\n",
       " 4,\n",
       " 4,\n",
       " 4,\n",
       " 4,\n",
       " 5,\n",
       " 5,\n",
       " 5,\n",
       " 5,\n",
       " 4,\n",
       " 2,\n",
       " 4,\n",
       " 3,\n",
       " 4,\n",
       " 4,\n",
       " 4,\n",
       " 5,\n",
       " 5,\n",
       " 2,\n",
       " 4,\n",
       " 4,\n",
       " 5,\n",
       " 5,\n",
       " 4,\n",
       " 5,\n",
       " 5,\n",
       " 3,\n",
       " 2,\n",
       " 5,\n",
       " 5,\n",
       " 4,\n",
       " 4,\n",
       " 5,\n",
       " 4,\n",
       " 4,\n",
       " 4,\n",
       " 5,\n",
       " 4,\n",
       " 4,\n",
       " 5,\n",
       " 4,\n",
       " 4,\n",
       " 4,\n",
       " 4,\n",
       " 5,\n",
       " 5,\n",
       " 4,\n",
       " 4,\n",
       " 5,\n",
       " 5,\n",
       " 4,\n",
       " 4,\n",
       " 4,\n",
       " 4,\n",
       " 4,\n",
       " 5,\n",
       " 4,\n",
       " 2,\n",
       " 4,\n",
       " 4,\n",
       " 5,\n",
       " 5,\n",
       " 4,\n",
       " 4,\n",
       " 4,\n",
       " 4,\n",
       " 4,\n",
       " 5,\n",
       " 4,\n",
       " 5,\n",
       " 5,\n",
       " 4,\n",
       " 5,\n",
       " 4,\n",
       " 4,\n",
       " 5,\n",
       " 4,\n",
       " 4]"
      ]
     },
     "execution_count": 21,
     "metadata": {},
     "output_type": "execute_result"
    }
   ],
   "source": [
    "populacao = populacao_palindromo(TAMANHO_POPULACAO, 5, caracteres_possiveis)\n",
    "print(populacao)\n",
    "funcao_objetivo_palindromo_pop(populacao)"
   ]
  },
  {
   "cell_type": "markdown",
   "id": "fd73ec99",
   "metadata": {},
   "source": [
    "Aqui você está evoluindo a população até encontrar 10 palíndromos perfeitos.\n",
    "\n",
    "O processo dentro do loop é consiste em avaliar fitness da população, selecionar indivíduos pelo torneio, fazer cruzamento (crossover) entre pares com uma certa chance. Em seguinda fazer mutação nos filhos e atualizar a população para a próxima geração. Por fim, Checa o menor fitness e quando encontrar um indivíduo com fitness 0 (palíndromo perfeito), ele é contado, e o processo continua até achar 10."
   ]
  },
  {
   "cell_type": "code",
   "execution_count": 23,
   "id": "0fdd7d03",
   "metadata": {},
   "outputs": [
    {
     "name": "stdout",
     "output_type": "stream",
     "text": [
      ".1 qumuq\n",
      "..3 qucuq\n",
      ".4 quauq\n",
      ".5 buiub\n",
      "..7 mbibm\n",
      "..9 suius\n",
      ".10 tuout\n",
      ".11 iurui\n",
      ".12 iufui\n",
      ".13 iuiui\n"
     ]
    }
   ],
   "source": [
    "    geracao = 0\n",
    "    qntd_de_palindromos = 0\n",
    "    \n",
    "    while qntd_de_palindromos < 10:\n",
    "        menor_fitness_geral = float(\"inf\")\n",
    "        while menor_fitness_geral != 0:\n",
    "            print('.', end='')\n",
    "            # Seleção\n",
    "            fitness = funcao_objetivo_palindromo_pop(populacao)        \n",
    "            selecionados = funcao_selecao(populacao, fitness, TAMANHO_TORNEIO)\n",
    "\n",
    "            # Cruzamento\n",
    "            proxima_geracao = []\n",
    "            for pai, mae in zip(selecionados[::2], selecionados[1::2]):\n",
    "                if random.random() < CHANCE_DE_CRUZAMENTO:\n",
    "                    corte = random.randint(1, len(mae)-1)\n",
    "                    filho1 = pai[:corte] + mae[corte:] \n",
    "                    filho2 = mae[:corte] + pai[corte:]\n",
    "                    proxima_geracao.append(filho1)\n",
    "                    proxima_geracao.append(filho2)\n",
    "                else:\n",
    "                    proxima_geracao.append(pai)\n",
    "                    proxima_geracao.append(mae)\n",
    "\n",
    "            # Mutação\n",
    "            mutacao_palindromo(proxima_geracao, CHANCE_DE_MUTACAO, list(caracteres_possiveis))\n",
    "\n",
    "            # Encerramento\n",
    "            populacao = proxima_geracao\n",
    "            geracao += 1\n",
    "\n",
    "            fitness = funcao_objetivo_palindromo_pop(populacao)\n",
    "            menor_fitness_observado = min(fitness)\n",
    "\n",
    "            if menor_fitness_observado < menor_fitness_geral:\n",
    "                menor_fitness_geral = menor_fitness_observado\n",
    "                indice = fitness.index(menor_fitness_observado)\n",
    "                candidato = populacao[indice]\n",
    "        print(geracao, \"\".join(candidato))\n",
    "        qntd_de_palindromos +=1"
   ]
  },
  {
   "cell_type": "markdown",
   "id": "ee250249",
   "metadata": {},
   "source": [
    "### Conclusão"
   ]
  },
  {
   "cell_type": "markdown",
   "id": "8b05f527",
   "metadata": {},
   "source": [
    "O trabalho mostra como ideias inspiradas pela biologia evolutiva podem ser aplicadas em algoritmos de busca e otimização. Através da simulação de evolução por seleção natural, o código é capaz de gerar palavras cada vez mais próximas de um palíndromo ideal e com isso conseguimos os 10 palíndromos requeridos. "
   ]
  },
  {
   "cell_type": "markdown",
   "id": "03152be4",
   "metadata": {},
   "source": [
    "### Referências"
   ]
  },
  {
   "cell_type": "markdown",
   "id": "7f63c31e",
   "metadata": {},
   "source": [
    "[1] Wikipedia. Genetic algorithm. https://en.wikipedia.org/wiki/Genetic_algorithm. Acesso em: 10 junho 2025.\n",
    "\n",
    "[2] Algoritmo genético simples com palíndromos. https://gist.github.com/lspector/e0afea6bba84c1317a765b4da55ae0c6"
   ]
  },
  {
   "cell_type": "code",
   "execution_count": null,
   "id": "e97d8503",
   "metadata": {},
   "outputs": [],
   "source": []
  }
 ],
 "metadata": {
  "kernelspec": {
   "display_name": "Python 3 (ipykernel)",
   "language": "python",
   "name": "python3"
  },
  "language_info": {
   "codemirror_mode": {
    "name": "ipython",
    "version": 3
   },
   "file_extension": ".py",
   "mimetype": "text/x-python",
   "name": "python",
   "nbconvert_exporter": "python",
   "pygments_lexer": "ipython3",
   "version": "3.11.5"
  }
 },
 "nbformat": 4,
 "nbformat_minor": 5
}
